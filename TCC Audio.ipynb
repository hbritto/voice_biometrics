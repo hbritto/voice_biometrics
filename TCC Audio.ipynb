{
 "cells": [
  {
   "cell_type": "code",
   "execution_count": 5,
   "metadata": {},
   "outputs": [
    {
     "name": "stdout",
     "output_type": "stream",
     "text": [
      "Nome da pessoa a ser registrada: Teste\n",
      "Número de áudios a serem gravados: 2\n",
      "Áudio número 01 de 02\n",
      "Áudio número 02 de 02\n"
     ]
    }
   ],
   "source": [
    "#Registering new person\n",
    "import os\n",
    "from audio_utils.recorder import Recorder\n",
    "\n",
    "base_dir = '/run/media/hbritto/Data/Datasets/deep-speaker-data'\n",
    "# base_dir = '/home/hbritto/code/tcc/deep-speaker-data'\n",
    "audio_dir = base_dir + '/VCTK-Corpus/'\n",
    "cache_dir = base_dir + '/cache/'\n",
    "\n",
    "name = input('Nome da pessoa a ser registrada: ')\n",
    "n_audio = int(input('Número de áudios a serem gravados: '))\n",
    "person_folder = os.path.join(base_dir, name)\n",
    "os.makedirs(person_folder, exist_ok=True)\n",
    "rec = Recorder()\n",
    "\n",
    "for i in range(n_audio):\n",
    "    print('Áudio número {:>02d} de {:>02d}'.format(i + 1, n_audio))\n",
    "    with rec.open(os.path.join(person_folder, '{}_{:>03d}.wav'.format(name, i))) as recfile:\n",
    "        recfile.record(8)\n"
   ]
  },
  {
   "cell_type": "code",
   "execution_count": 8,
   "metadata": {},
   "outputs": [],
   "source": [
    "import pickle\n",
    "from deep_speaker.audio_reader import AudioReader\n",
    "from deep_speaker.constants import c\n",
    "with open(os.path.join(cache_dir, 'embeddings.pkl'), 'rb') as pkl:\n",
    "    all_embs = pickle.load(pkl)"
   ]
  },
  {
   "cell_type": "code",
   "execution_count": 15,
   "metadata": {},
   "outputs": [
    {
     "name": "stdout",
     "output_type": "stream",
     "text": [
      "/run/media/hbritto/Data/Datasets/deep-speaker-data/Teste/\n"
     ]
    }
   ],
   "source": [
    "new_audio_dir = os.path.join(base_dir, person_folder, '')\n",
    "print(new_audio_dir)\n",
    "audio_reader = AudioReader(input_audio_dir=audio_dir,\n",
    "                           output_cache_dir=cache_dir,\n",
    "                           sample_rate=c.AUDIO.SAMPLE_RATE,\n",
    "                           multi_threading=True)\n",
    "audio_reader.build_cache()"
   ]
  },
  {
   "cell_type": "code",
   "execution_count": 18,
   "metadata": {},
   "outputs": [
    {
     "name": "stderr",
     "output_type": "stream",
     "text": [
      "100%|██████████| 1000/1000 [03:12<00:00,  5.20it/s]\n"
     ]
    },
    {
     "name": "stdout",
     "output_type": "stream",
     "text": [
      "Embeddings will be normalized.\n",
      "_________________________________________________________________\n",
      "Layer (type)                 Output Shape              Param #   \n",
      "=================================================================\n",
      "input_1 (InputLayer)         (None, 390)               0         \n",
      "_________________________________________________________________\n",
      "fc1 (Dense)                  (None, 200)               78200     \n",
      "_________________________________________________________________\n",
      "normalization (Lambda)       (None, 200)               0         \n",
      "_________________________________________________________________\n",
      "embeddings (Lambda)          (None, 200)               0         \n",
      "_________________________________________________________________\n",
      "softmax (Dense)              (None, 105)               21105     \n",
      "=================================================================\n",
      "Total params: 99,305\n",
      "Trainable params: 21,105\n",
      "Non-trainable params: 78,200\n",
      "_________________________________________________________________\n",
      "None\n",
      "********************************************************************************\n",
      "[0.0623697  0.05009483 0.0370005  0.09856492 0.04804957 0.04357605\n",
      " 0.07784101 0.06101264 0.07669162 0.04981827 0.04567538 0.09146316\n",
      " 0.08309498 0.04615854 0.04302484 0.05790596 0.0469189  0.05947551\n",
      " 0.08093376 0.08825442 0.08612468 0.06453855 0.04325812 0.0628702\n",
      " 0.04334913 0.04096987 0.07122919 0.06261148 0.06364112 0.06250876\n",
      " 0.08220444 0.0866766  0.05327608 0.07528415 0.08284806 0.07053343\n",
      " 0.09274566 0.02882177 0.05889246 0.07727741 0.06037357 0.07404531\n",
      " 0.07545023 0.06558575 0.09674411 0.07121388 0.07421023 0.04382712\n",
      " 0.05912621 0.08142057 0.06915045 0.06706611 0.03754405 0.02667201\n",
      " 0.03949971 0.06759869 0.04256583 0.09362639 0.03609741 0.0465388\n",
      " 0.04529804 0.0593953  0.07824037 0.04157884 0.02938067 0.06202044\n",
      " 0.05568698 0.07040338 0.05210183 0.07114439 0.04691751 0.08620311\n",
      " 0.03568721 0.04950238 0.08275176 0.08622029 0.06795099 0.0452774\n",
      " 0.07906844 0.05245222 0.0586757  0.07247279 0.05039091 0.03931645\n",
      " 0.07700315 0.08658434 0.0774243  0.05648587 0.06594419 0.08481504\n",
      " 0.08183647 0.06927448 0.08865175 0.09193486 0.09124417 0.03904564\n",
      " 0.05790106 0.05899534 0.07520928 0.07469364 0.08336558 0.04786097\n",
      " 0.03657686 0.06005666 0.06509797 0.08727305 0.05960635 0.08321828\n",
      " 0.06318545 0.09148268 0.07527401 0.08748904 0.04731154 0.08599321\n",
      " 0.05219183 0.06231682 0.08052726 0.07953364 0.06660549 0.06558344\n",
      " 0.07573363 0.04013439 0.07126874 0.08787154 0.05882795 0.05510434\n",
      " 0.03364391 0.0410773  0.06989347 0.03758727 0.04602633 0.07899471\n",
      " 0.04336042 0.0464621  0.06529746 0.08466288 0.07570041 0.08097181\n",
      " 0.02293198 0.07369433 0.05834883 0.08044016 0.046048   0.07634424\n",
      " 0.07731745 0.077696   0.07639392 0.05372886 0.06033546 0.07514235\n",
      " 0.04944467 0.06676035 0.07920276 0.04488921 0.04095237 0.07914144\n",
      " 0.08788868 0.04184705 0.0741433  0.04810859 0.04264748 0.06505304\n",
      " 0.0590615  0.05987271 0.09148713 0.05039994 0.09766308 0.05032676\n",
      " 0.07572123 0.08340742 0.05181024 0.08807307 0.05735955 0.07308885\n",
      " 0.07658432 0.04786616 0.07082826 0.04571607 0.07041211 0.0617539\n",
      " 0.09161513 0.0855383  0.07762609 0.05768444 0.07396882 0.10091836\n",
      " 0.07483269 0.05204286 0.04653918 0.04677354 0.08310576 0.07503039\n",
      " 0.07590707 0.07460499 0.03872984 0.05695137 0.10177581 0.04992203\n",
      " 0.05859195 0.06271718]\n",
      "********************************************************************************\n"
     ]
    }
   ],
   "source": [
    "from deep_speaker.unseen_speakers import inference_embeddings\n",
    "emb_teste = inference_embeddings(audio_reader, 'Teste')"
   ]
  },
  {
   "cell_type": "code",
   "execution_count": 23,
   "metadata": {},
   "outputs": [
    {
     "data": {
      "text/plain": [
       "NearestNeighbors(algorithm='auto', leaf_size=30, metric='cosine',\n",
       "         metric_params=None, n_jobs=1, n_neighbors=1, p=2, radius=1.0)"
      ]
     },
     "execution_count": 23,
     "metadata": {},
     "output_type": "execute_result"
    }
   ],
   "source": [
    "all_embs.update({'Teste': emb_teste})\n",
    "del all_embs['Teste']\n",
    "from sklearn.neighbors import NearestNeighbors\n",
    "nn = NearestNeighbors(n_neighbors=1, metric='cosine')\n",
    "nn.fit(list(all_embs.values()))"
   ]
  },
  {
   "cell_type": "code",
   "execution_count": 24,
   "metadata": {},
   "outputs": [
    {
     "data": {
      "text/plain": [
       "(array([[0.04084945]], dtype=float32), array([[74]]))"
      ]
     },
     "execution_count": 24,
     "metadata": {},
     "output_type": "execute_result"
    }
   ],
   "source": [
    "nn.kneighbors([emb_teste])"
   ]
  }
 ],
 "metadata": {
  "kernelspec": {
   "display_name": "Python 3",
   "language": "python",
   "name": "python3"
  },
  "language_info": {
   "codemirror_mode": {
    "name": "ipython",
    "version": 3
   },
   "file_extension": ".py",
   "mimetype": "text/x-python",
   "name": "python",
   "nbconvert_exporter": "python",
   "pygments_lexer": "ipython3",
   "version": "3.7.0"
  }
 },
 "nbformat": 4,
 "nbformat_minor": 2
}
