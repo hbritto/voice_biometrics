{
 "cells": [
  {
   "cell_type": "code",
   "execution_count": 1,
   "metadata": {},
   "outputs": [],
   "source": [
    "#Registering new person\n",
    "import os\n",
    "from audio_utils.recorder import Recorder\n",
    "\n",
    "base_dir = '/run/media/hbritto/Data/Datasets/deep-speaker-data'\n",
    "# base_dir = '/home/hbritto/code/tcc/deep-speaker-data'\n",
    "audio_dir = base_dir + '/VCTK-Corpus/'\n",
    "cache_dir = base_dir + '/cache/'"
   ]
  },
  {
   "cell_type": "code",
   "execution_count": 3,
   "metadata": {},
   "outputs": [
    {
     "name": "stdout",
     "output_type": "stream",
     "text": [
      "{'AUDIO': {'SAMPLE_RATE': 8000,\n",
      "           'SPEAKERS_TESTING_SET': ['p363', 'p364', 'p374', 'p376'],\n",
      "           'SPEAKERS_TRAINING_SET': ['p225',\n",
      "                                     'p226',\n",
      "                                     'p227',\n",
      "                                     'p228',\n",
      "                                     'p229',\n",
      "                                     'p230',\n",
      "                                     'p231',\n",
      "                                     'p232',\n",
      "                                     'p233',\n",
      "                                     'p234',\n",
      "                                     'p236',\n",
      "                                     'p237',\n",
      "                                     'p238',\n",
      "                                     'p239',\n",
      "                                     'p240',\n",
      "                                     'p241',\n",
      "                                     'p243',\n",
      "                                     'p244',\n",
      "                                     'p245',\n",
      "                                     'p246',\n",
      "                                     'p247',\n",
      "                                     'p248',\n",
      "                                     'p249',\n",
      "                                     'p250',\n",
      "                                     'p251',\n",
      "                                     'p252',\n",
      "                                     'p253',\n",
      "                                     'p254',\n",
      "                                     'p255',\n",
      "                                     'p256',\n",
      "                                     'p257',\n",
      "                                     'p258',\n",
      "                                     'p259',\n",
      "                                     'p260',\n",
      "                                     'p261',\n",
      "                                     'p262',\n",
      "                                     'p263',\n",
      "                                     'p264',\n",
      "                                     'p265',\n",
      "                                     'p266',\n",
      "                                     'p267',\n",
      "                                     'p268',\n",
      "                                     'p269',\n",
      "                                     'p270',\n",
      "                                     'p271',\n",
      "                                     'p272',\n",
      "                                     'p273',\n",
      "                                     'p274',\n",
      "                                     'p275',\n",
      "                                     'p276',\n",
      "                                     'p277',\n",
      "                                     'p278',\n",
      "                                     'p279',\n",
      "                                     'p280',\n",
      "                                     'p281',\n",
      "                                     'p282',\n",
      "                                     'p283',\n",
      "                                     'p284',\n",
      "                                     'p285',\n",
      "                                     'p286',\n",
      "                                     'p287',\n",
      "                                     'p288',\n",
      "                                     'p292',\n",
      "                                     'p293',\n",
      "                                     'p294',\n",
      "                                     'p295',\n",
      "                                     'p297',\n",
      "                                     'p298',\n",
      "                                     'p299',\n",
      "                                     'p300',\n",
      "                                     'p301',\n",
      "                                     'p302',\n",
      "                                     'p303',\n",
      "                                     'p304',\n",
      "                                     'p305',\n",
      "                                     'p306',\n",
      "                                     'p307',\n",
      "                                     'p308',\n",
      "                                     'p310',\n",
      "                                     'p311',\n",
      "                                     'p312',\n",
      "                                     'p313',\n",
      "                                     'p314',\n",
      "                                     'p315',\n",
      "                                     'p316',\n",
      "                                     'p317',\n",
      "                                     'p318',\n",
      "                                     'p323',\n",
      "                                     'p326',\n",
      "                                     'p329',\n",
      "                                     'p330',\n",
      "                                     'p333',\n",
      "                                     'p334',\n",
      "                                     'p335',\n",
      "                                     'p336',\n",
      "                                     'p339',\n",
      "                                     'p340',\n",
      "                                     'p341',\n",
      "                                     'p343',\n",
      "                                     'p345',\n",
      "                                     'p347',\n",
      "                                     'p351',\n",
      "                                     'p360',\n",
      "                                     'p361',\n",
      "                                     'p362']}}\n"
     ]
    }
   ],
   "source": [
    "import pickle\n",
    "from deep_speaker.audio_reader import AudioReader\n",
    "from deep_speaker.constants import c\n",
    "with open(os.path.join(cache_dir, 'embeddings.pkl'), 'rb') as pkl:\n",
    "    all_embs = pickle.load(pkl)"
   ]
  },
  {
   "cell_type": "code",
   "execution_count": 6,
   "metadata": {},
   "outputs": [
    {
     "name": "stdout",
     "output_type": "stream",
     "text": [
      "Nome da pessoa a ser registrada: Teste\n",
      "Número de áudios a serem gravados: 1\n",
      "Áudio número 01 de 01\n"
     ]
    }
   ],
   "source": [
    "name = input('Nome da pessoa a ser registrada: ')\n",
    "n_audio = int(input('Número de áudios a serem gravados: '))\n",
    "person_folder = os.path.join(base_dir, name)\n",
    "os.makedirs(person_folder, exist_ok=True)\n",
    "rec = Recorder()\n",
    "\n",
    "for i in range(n_audio):\n",
    "    print('Áudio número {:>02d} de {:>02d}'.format(i + 1, n_audio))\n",
    "    with rec.open(os.path.join(person_folder, '{}_{:>03d}.wav'.format(name, i))) as recfile:\n",
    "        recfile.record(8)"
   ]
  },
  {
   "cell_type": "code",
   "execution_count": 7,
   "metadata": {},
   "outputs": [
    {
     "name": "stdout",
     "output_type": "stream",
     "text": [
      "/home/hbritto/code/tcc/voice_biometrics\n",
      "/run/media/hbritto/Data/Datasets/deep-speaker-data/Teste/\n"
     ]
    }
   ],
   "source": [
    "new_audio_dir = os.path.join(base_dir, person_folder, '')\n",
    "audio_reader = AudioReader(input_audio_dir=audio_dir,\n",
    "                           output_cache_dir=cache_dir,\n",
    "                           sample_rate=c.AUDIO.SAMPLE_RATE,\n",
    "                           multi_threading=True)\n",
    "audio_reader.build_cache()"
   ]
  },
  {
   "cell_type": "code",
   "execution_count": null,
   "metadata": {},
   "outputs": [],
   "source": [
    "from deep_speaker.unseen_speakers import inference_embeddings\n",
    "emb_teste = inference_embeddings(audio_reader, 'Teste')"
   ]
  },
  {
   "cell_type": "code",
   "execution_count": null,
   "metadata": {},
   "outputs": [],
   "source": [
    "all_embs.update({'Teste': emb_teste})\n",
    "del all_embs['Teste']\n",
    "from sklearn.neighbors import NearestNeighbors\n",
    "nn = NearestNeighbors(n_neighbors=1, metric='cosine')\n",
    "nn.fit(list(all_embs.values()))"
   ]
  },
  {
   "cell_type": "code",
   "execution_count": null,
   "metadata": {},
   "outputs": [],
   "source": [
    "nn.kneighbors([emb_teste])"
   ]
  }
 ],
 "metadata": {
  "kernelspec": {
   "display_name": "Python 3",
   "language": "python",
   "name": "python3"
  },
  "language_info": {
   "codemirror_mode": {
    "name": "ipython",
    "version": 3
   },
   "file_extension": ".py",
   "mimetype": "text/x-python",
   "name": "python",
   "nbconvert_exporter": "python",
   "pygments_lexer": "ipython3",
   "version": "3.7.0"
  }
 },
 "nbformat": 4,
 "nbformat_minor": 2
}
